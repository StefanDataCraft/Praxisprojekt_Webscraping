{
 "cells": [
  {
   "cell_type": "code",
   "execution_count": 3,
   "metadata": {
    "collapsed": true,
    "ExecuteTime": {
     "end_time": "2023-06-28T14:18:38.454007200Z",
     "start_time": "2023-06-28T14:18:37.146238Z"
    }
   },
   "outputs": [],
   "source": [
    "# Laden der CSV-Datei in einen DataFrame\n",
    "import pandas as pd\n",
    "df = pd.read_csv(\"./book_data.csv\")"
   ]
  },
  {
   "cell_type": "code",
   "execution_count": 4,
   "outputs": [
    {
     "name": "stdout",
     "output_type": "stream",
     "text": [
      "Durchschnittlicher Buchpreis: 34.79625\n"
     ]
    }
   ],
   "source": [
    "# Durchschnittlicher Buchpreis\n",
    "average_price = df[\"Price\"].mean()\n",
    "print(f\"Durchschnittlicher Buchpreis: {average_price}\")"
   ],
   "metadata": {
    "collapsed": false
   }
  },
  {
   "cell_type": "code",
   "execution_count": 5,
   "outputs": [
    {
     "name": "stdout",
     "output_type": "stream",
     "text": [
      "Durchschnittliche Bewertung: 2.865\n"
     ]
    }
   ],
   "source": [
    "# Durchschnittliche Bewertung\n",
    "average_rating = df[\"Rating\"].map({\"One\": 1, \"Two\": 2, \"Three\": 3, \"Four\": 4, \"Five\": 5}).mean()\n",
    "print(f\"Durchschnittliche Bewertung: {average_rating}\")"
   ],
   "metadata": {
    "collapsed": false
   }
  },
  {
   "cell_type": "code",
   "execution_count": 8,
   "outputs": [
    {
     "name": "stdout",
     "output_type": "stream",
     "text": [
      "Anzahl der Bewertungen mit fünf Sternen: 37\n"
     ]
    }
   ],
   "source": [
    "# Anzahl der Bewertungen mit fünf Sternen\n",
    "five_star_count = df[df[\"Rating\"] == \"Five\"].shape[0]\n",
    "print(f\"Anzahl der Bewertungen mit fünf Sternen: {five_star_count}\")"
   ],
   "metadata": {
    "collapsed": false
   }
  },
  {
   "cell_type": "code",
   "execution_count": 9,
   "outputs": [
    {
     "name": "stdout",
     "output_type": "stream",
     "text": [
      "Anzahl der Bewertungen mit einem Stern: 49\n"
     ]
    }
   ],
   "source": [
    "# Anzahl der Bewertungen mit einem Stern\n",
    "one_star_count = df[df[\"Rating\"] == \"One\"].shape[0]\n",
    "print(f\"Anzahl der Bewertungen mit einem Stern: {one_star_count}\")\n"
   ],
   "metadata": {
    "collapsed": false
   }
  },
  {
   "cell_type": "code",
   "execution_count": null,
   "outputs": [],
   "source": [],
   "metadata": {
    "collapsed": false
   }
  }
 ],
 "metadata": {
  "kernelspec": {
   "display_name": "Python 3",
   "language": "python",
   "name": "python3"
  },
  "language_info": {
   "codemirror_mode": {
    "name": "ipython",
    "version": 2
   },
   "file_extension": ".py",
   "mimetype": "text/x-python",
   "name": "python",
   "nbconvert_exporter": "python",
   "pygments_lexer": "ipython2",
   "version": "2.7.6"
  }
 },
 "nbformat": 4,
 "nbformat_minor": 0
}
